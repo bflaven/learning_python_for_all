{
 "cells": [
  {
   "cell_type": "markdown",
   "metadata": {},
   "source": [
    "# Introduction à Python\n",
    "\n",
    "Python est un langage interpréteur\n",
    "\n",
    "## 1. Bases de Python"
   ]
  },
  {
   "cell_type": "markdown",
   "metadata": {},
   "source": [
    "## (i) Utiliser anaconda pour gérer l'environnement Python.\n",
    "\n",
    "```bash\n",
    "[env]\n",
    "# Environnement Conda\n",
    "conda create --name python_begin python=3.9.13\n",
    "conda info --envs\n",
    "source activate python_begin\n",
    "conda deactivate\n",
    "\n",
    "# si nécessaire pour supprimer\n",
    "conda env remove -n [NAME_OF_THE_CONDA_ENVIRONMENT]\n",
    "conda env remove -n python_begin\n",
    "\n",
    "# mettre à jour conda\n",
    "conda update -n base -c valeurs par défaut conda\n",
    "\n",
    "# pour exporter les exigences\n",
    "pip freeze > requirements.txt\n",
    "\n",
    "# à installer\n",
    "pip install -r requirements.txt\n",
    "\n",
    "# [chemin]\n",
    "cd /Users/brunoflaven/Documents/02_copy/_000_IA_bruno_light/002_learning_python_for_family/000_jupyter_notebooks/\n",
    "\n",
    "# LANCEZ L'APPLICATION\n",
    "python 001_app.py\n",
    "\n",
    "```\n",
    "## (ii) Comment lancer un jupyter notebook\n",
    "```\n",
    "# va dans le répertoire où\n",
    "cd /Users/brunoflaven/Documents/02_copy/_000_IA_bruno_light/002_learning_python_for_family/000_jupyter_notebooks/\n",
    "\n",
    "# lancer le notebook\n",
    "jupyter notebook\n",
    "\n",
    "```"
   ]
  },
  {
   "cell_type": "markdown",
   "metadata": {},
   "source": [
    "## 2. Utiliser le Python"
   ]
  },
  {
   "cell_type": "markdown",
   "metadata": {},
   "source": [
    "#### Impresssion\n",
    "En Python, la fonction `print()` est utilisée pour afficher des informations à la console. Elle prend en charge l'affichage de texte, de variables, d'expressions, et d'autres types de données. Voici une définition simple de la fonction `print()` :\n",
    "\n",
    "La fonction `print()` en Python est une instruction intégrée qui permet d'afficher du texte et d'autres données à la console. Elle prend en charge l'affichage de chaînes de caractères, de variables, d'expressions et de divers types de données, facilitant ainsi la visualisation des résultats et le débogage des programmes.\n",
    "\n",
    "Exemple d'utilisation de `print()` :\n",
    "\n",
    "Dans cet exemple, la fonction `print()` est utilisée pour afficher le nom et l'âge de la personne, ainsi qu'un message de bienvenue à la console.\n",
    "\n",
    "```python\n",
    "nom = \"John\"\n",
    "age = 30\n",
    "\n",
    "print(\"Nom:\", nom)\n",
    "print(\"Âge:\", age)\n",
    "print(\"Bienvenue à\", nom, \"!\")\n",
    "```\n",
    "\n"
   ]
  },
  {
   "cell_type": "code",
   "execution_count": 8,
   "metadata": {},
   "outputs": [
    {
     "name": "stdout",
     "output_type": "stream",
     "text": [
      "Bonjour Ségal\n",
      "Bonjour Ligne #1\n",
      "Ségal Ligne #1\n",
      "Hello World\n",
      "\n",
      "---\n",
      "\n",
      "Nom: John\n",
      "Âge: 30\n",
      "Bienvenue à John !\n"
     ]
    }
   ],
   "source": [
    "# Print Statement\n",
    "print(\"Bonjour Ségal\")\n",
    "\n",
    "# Print enters a newline after the string printed\n",
    "print(\"Bonjour Ligne #1\")\n",
    "print(\"Ségal Ligne #1\")\n",
    "\n",
    "# To add space at the end not newline\n",
    "print(\"Hello\", end=\" \")\n",
    "print(\"World\")\n",
    "\n",
    "print('\\n---\\n')\n",
    "nom = \"John\"\n",
    "age = 30\n",
    "\n",
    "print(\"Nom:\", nom)\n",
    "print(\"Âge:\", age)\n",
    "print(\"Bienvenue à\", nom, \"!\")"
   ]
  },
  {
   "cell_type": "markdown",
   "metadata": {},
   "source": [
    "#### Commentaire\n",
    "Le commentaire peut être utilisé pour la documentation ou l’explication du code. Les commentaires multilignes ne sont cependant pas pris en charge en Python, mais des chaînes multilignes sont utilisées dans ce cas."
   ]
  },
  {
   "cell_type": "code",
   "execution_count": 3,
   "metadata": {},
   "outputs": [],
   "source": [
    "# This a comment"
   ]
  },
  {
   "cell_type": "code",
   "execution_count": 4,
   "metadata": {},
   "outputs": [
    {
     "data": {
      "text/plain": [
       "'\\nThis is a multi\\nline comment\\n'"
      ]
     },
     "execution_count": 4,
     "metadata": {},
     "output_type": "execute_result"
    }
   ],
   "source": [
    "'''\n",
    "This is a multi\n",
    "line comment\n",
    "'''"
   ]
  },
  {
   "cell_type": "markdown",
   "metadata": {},
   "source": [
    "### Opérateurs arithmétiques\n",
    "Python prend en charge 7 opérations arithmétiques\n",
    "\n",
    "- +(Addition)\n",
    "- -(Soustraction)\n",
    "- *(Multiplication)\n",
    "- /(Division)\n",
    "- //(Division entière)\n",
    "- %(Module)\n",
    "- **(Exponentiel)"
   ]
  },
  {
   "cell_type": "code",
   "execution_count": null,
   "metadata": {},
   "outputs": [],
   "source": [
    "# Addition\n",
    "imprimer (5 + 5)\n",
    "\n",
    "# Soustraction\n",
    "imprimer (10 - 8)\n",
    "\n",
    "#Multiplication\n",
    "imprimer (5 * 5)\n",
    "\n",
    "#Division\n",
    "imprimer( 4 / 2)\n",
    "\n",
    "# Division entière\n",
    "imprimer ( 35 // 9)\n",
    "\n",
    "# Module\n",
    "imprimer( 35 % 9)\n",
    "\n",
    "# Exponentiel\n",
    "imprimer( 3 ** 3)"
   ]
  },
  {
   "cell_type": "markdown",
   "metadata": {},
   "source": [
    "### Opérateurs relationnels\n",
    "Il existe 6 opérateurs relationnels\n",
    "- == (Égal)\n",
    "- != (Différent)\n",
    "- \\> (Supérieur à)\n",
    "- \\< (Moins de x < y)\n",
    "- \\>= (Supérieur ou égal à)\n",
    "- <= (Inférieur ou égal à)"
   ]
  },
  {
   "cell_type": "code",
   "execution_count": 6,
   "metadata": {},
   "outputs": [
    {
     "name": "stdout",
     "output_type": "stream",
     "text": [
      "True\n",
      "False\n",
      "False\n",
      "True\n",
      "False\n",
      "True\n"
     ]
    }
   ],
   "source": [
    "# greater than\n",
    "print(35 > 34)\n",
    "\n",
    "# less than\n",
    "print(45 < 34)\n",
    "\n",
    "# equal\n",
    "print(45 == 34)\n",
    "\n",
    "# not equal\n",
    "print(45 != 34)\n",
    "\n",
    "# less than or equal to\n",
    "print(45 <= 34)\n",
    "\n",
    "# greater than or equal to\n",
    "print(45 >= 34)"
   ]
  },
  {
   "cell_type": "markdown",
   "metadata": {},
   "source": [
    "### Opérations logiques\n",
    "Il y a principalement 3 opérations logiques\n",
    "- et opérateur - Renvoie 1 lorsque les deux opérandes sont différents de zéro et renvoie Vrai, les deux sont vrais\n",
    "- ou opérateur - Renvoie 1 lorsque l'un des opérandes est différent de zéro et renvoie True lorsque l'un ou l'autre est True.\n",
    "- pas d'opérateur - Renvoie True lorsque l'opérande est zéro ou False"
   ]
  },
  {
   "cell_type": "code",
   "execution_count": 9,
   "metadata": {},
   "outputs": [
    {
     "name": "stdout",
     "output_type": "stream",
     "text": [
      "0\n",
      "0\n",
      "0\n",
      "5\n",
      "False\n",
      "3\n",
      "5\n",
      "0\n",
      "5\n",
      "True\n",
      "False\n",
      "True\n",
      "True\n"
     ]
    }
   ],
   "source": [
    "# And operator\n",
    "print(0 and 3)\n",
    "print(5 and 0)\n",
    "print(0 and 0)\n",
    "print(5 and 5)\n",
    "\n",
    "print((6 > 3) and (3 == 5))\n",
    "\n",
    "# And operator\n",
    "print(0 or 3)\n",
    "print(5 or 0)\n",
    "print(0 or 0)\n",
    "print(5 or 5)\n",
    "\n",
    "\n",
    "print((6 > 3) or (3 == 5))\n",
    "\n",
    "# Not operator\n",
    "print(not 5)\n",
    "print(not 0)\n",
    "print( not (6<3))\n"
   ]
  },
  {
   "cell_type": "markdown",
   "metadata": {},
   "source": [
    "## Variables et types de données"
   ]
  },
  {
   "cell_type": "markdown",
   "metadata": {},
   "source": [
    "1. **Affectation de variables :**\n",
    "   - `a` est affecté à la valeur 12.\n",
    "   - `b` est affecté à la valeur 65.\n",
    "\n",
    "```python\n",
    "a = 12\n",
    "b = 65\n",
    "```\n",
    "\n",
    "2. **Calcul d'une expression :**\n",
    "   - La variable `c` est définie comme le produit de `a` et `b`, soit `c = a * b`.\n",
    "\n",
    "```python\n",
    "c = a * b\n",
    "```\n",
    "\n",
    "3. **Affichage des résultats :**\n",
    "   - La multiplication de `a` par `b` est affichée à la console à l'aide de la fonction `print()`.\n",
    "   - La valeur de la variable `c` est également affichée à la console.\n",
    "\n",
    "```python\n",
    "print(a * b)\n",
    "print(c)\n",
    "```\n",
    "\n",
    "En résumé, ce code réalise une multiplication entre les valeurs de `a` et `b`, stocke le résultat dans la variable `c`, puis affiche à la console à la fois le produit de `a` par `b` et la valeur de `c`. Dans cet exemple spécifique, le produit de 12 par 65 est affiché deux fois."
   ]
  },
  {
   "cell_type": "code",
   "execution_count": 11,
   "metadata": {},
   "outputs": [
    {
     "name": "stdout",
     "output_type": "stream",
     "text": [
      "780\n",
      "780\n"
     ]
    }
   ],
   "source": [
    "# Assignment\n",
    "a = 12\n",
    "b = 65\n",
    "c = a * b\n",
    "print( a * b)\n",
    "print(c)"
   ]
  },
  {
   "cell_type": "markdown",
   "metadata": {},
   "source": [
    "### Règles de dénomination des variables\n",
    "Les noms de variables suivent presque le même ensemble de règles que la plupart des autres langages de programmation\n",
    "\n",
    "1. Un nom de variable doit commencer par une lettre ou le caractère de soulignement\n",
    "2. Un nom de variable ne peut pas commencer par un nombre\n",
    "3. Un nom de variable ne peut contenir que des caractères alphanumériques et des traits de soulignement (A-z, 0-9 et _ ).\n",
    "4. Les noms de variables sont sensibles à la casse (age, Age et AGE sont trois variables différentes)"
   ]
  },
  {
   "cell_type": "markdown",
   "metadata": {},
   "source": [
    "### Exemples de respect des règles de dénomination des variables en Python :\n",
    "\n",
    "1. Un nom de variable doit commencer par une lettre ou le caractère de soulignement :\n",
    "   ```python\n",
    "   nom_variable = 42\n",
    "   _autre_variable = \"Hello\"\n",
    "   ```\n",
    "\n",
    "2. Un nom de variable ne peut pas commencer par un nombre :\n",
    "   ```python\n",
    "   # Incorrect\n",
    "   2eme_variable = 30\n",
    "\n",
    "   # Correct\n",
    "   variable2 = 30\n",
    "   ```\n",
    "\n",
    "3. Un nom de variable ne peut contenir que des caractères alphanumériques et des traits de soulignement (A-z, 0-9 et _ ) :\n",
    "   ```python\n",
    "   variable_alpha_num = \"ABC123\"\n",
    "   variable_avec_underscores = 10\n",
    "   ```\n",
    "\n",
    "4. Les noms de variables sont sensibles à la casse :\n",
    "   ```python\n",
    "   age = 25\n",
    "   Age = 30\n",
    "   AGE = 35\n",
    "\n",
    "   # Ces trois variables sont distinctes\n",
    "   ```\n",
    "\n",
    "Ces exemples illustrent comment respecter les règles de dénomination des variables en Python. Il est important de choisir des noms de variables significatifs et conformes à ces règles pour rendre votre code lisible et éviter les erreurs."
   ]
  },
  {
   "cell_type": "code",
   "execution_count": 12,
   "metadata": {},
   "outputs": [
    {
     "name": "stdout",
     "output_type": "stream",
     "text": [
      "123\n"
     ]
    }
   ],
   "source": [
    "adl_123= 123\n",
    "print( adl_123)"
   ]
  },
  {
   "cell_type": "code",
   "execution_count": 13,
   "metadata": {},
   "outputs": [
    {
     "name": "stdout",
     "output_type": "stream",
     "text": [
      "5\n"
     ]
    }
   ],
   "source": [
    "# MAUVAIS pas de caractère spécial dans le nom de la variable\n",
    "# @a=5\n",
    "\n",
    "# BON pas de caractère spécial\n",
    "ma_variable=5\n",
    "print(ma_variable)"
   ]
  },
  {
   "cell_type": "markdown",
   "metadata": {},
   "source": [
    "### Types de données\n",
    "- Type de texte : str\n",
    "- Types numériques : int, float, complex\n",
    "- Types de séquence : list, tuple, range\n",
    "- Type de mappage : dict\n",
    "- Types d'ensembles : set, frozenset\n",
    "- Type booléen : bool\n",
    "- Types binaires : bytes, bytearray, memoryview\n",
    "\n",
    "[Remarque : Python prend en charge le transtypage automatique et n'implique pas que l'utilisateur fournisse le type de données de la variable lors de la déclaration. Le type de n’importe quelle variable peut être vérifié en utilisant type(). ]"
   ]
  },
  {
   "cell_type": "code",
   "execution_count": 14,
   "metadata": {},
   "outputs": [
    {
     "name": "stdout",
     "output_type": "stream",
     "text": [
      "<class 'int'>\n",
      "<class 'str'>\n",
      "<class 'int'>\n",
      "<class 'float'>\n",
      "<class 'complex'>\n",
      "<class 'list'>\n",
      "<class 'tuple'>\n",
      "<class 'range'>\n",
      "<class 'dict'>\n",
      "<class 'set'>\n",
      "<class 'frozenset'>\n",
      "<class 'bool'>\n",
      "<class 'bytes'>\n",
      "<class 'bytearray'>\n",
      "<class 'memoryview'>\n"
     ]
    }
   ],
   "source": [
    "x = 5\n",
    "print(type(x))\n",
    "x = \"Hello World\"\n",
    "print(type(x))\n",
    "x = 20\n",
    "print(type(x))\n",
    "x = 20.5\n",
    "print(type(x))\n",
    "x = 1j\n",
    "print(type(x))\n",
    "x = [\"apple\", \"banana\", \"cherry\"]\n",
    "print(type(x))\n",
    "x = (\"apple\", \"banana\", \"cherry\")\n",
    "print(type(x))\n",
    "x = range(6)\n",
    "print(type(x))\n",
    "x = {\"name\" : \"John\", \"age\" : 36}\n",
    "print(type(x))\n",
    "x = {\"apple\", \"banana\", \"cherry\"}\n",
    "print(type(x))\n",
    "x = frozenset({\"apple\", \"banana\", \"cherry\"})\n",
    "print(type(x))\n",
    "x = True\n",
    "print(type(x))\n",
    "x = b\"Hello\"\n",
    "print(type(x))\n",
    "x = bytearray(5)\n",
    "print(type(x))\n",
    "x = memoryview(bytes(5))\n",
    "print(type(x))\n"
   ]
  },
  {
   "cell_type": "markdown",
   "metadata": {},
   "source": [
    "### Expressions conditionnelles\n",
    "Ce sont simplement if, if-else et if-elif-else ou une combinaison de if-many elif-else"
   ]
  },
  {
   "cell_type": "markdown",
   "metadata": {},
   "source": [
    "### Exemple d'expressions conditionnelles en Python :\n",
    "\n",
    "1. **If simple :**\n",
    "   ```python\n",
    "   age = 18\n",
    "\n",
    "   if age >= 18:\n",
    "       print(\"Vous êtes majeur.\")\n",
    "   ```\n",
    "\n",
    "2. **If-else :**\n",
    "   ```python\n",
    "   temperature = 25\n",
    "\n",
    "   if temperature > 30:\n",
    "       print(\"Il fait chaud dehors !\")\n",
    "   else:\n",
    "       print(\"La température est modérée.\")\n",
    "   ```\n",
    "\n",
    "3. **If-elif-else :**\n",
    "   ```python\n",
    "   note = 85\n",
    "\n",
    "   if note >= 90:\n",
    "       print(\"Excellent!\")\n",
    "   elif 80 <= note < 90:\n",
    "       print(\"Très bien.\")\n",
    "   elif 70 <= note < 80:\n",
    "       print(\"Bien.\")\n",
    "   else:\n",
    "       print(\"À améliorer.\")\n",
    "   ```\n",
    "\n",
    "4. **Combinaison de if-elif-else :**\n",
    "   ```python\n",
    "   x = 5\n",
    "   y = 10\n",
    "\n",
    "   if x > y:\n",
    "       print(\"x est plus grand que y.\")\n",
    "   elif x < y:\n",
    "       print(\"x est plus petit que y.\")\n",
    "   else:\n",
    "       print(\"x est égal à y.\")\n",
    "   ```\n",
    "\n",
    "Ces exemples montrent différentes utilisations d'expressions conditionnelles en Python, y compris les structures if simples, if-else, if-elif-else, et des combinaisons de celles-ci. Les expressions conditionnelles permettent d'exécuter des blocs de code en fonction de conditions spécifiques."
   ]
  },
  {
   "cell_type": "code",
   "execution_count": 17,
   "metadata": {},
   "outputs": [
    {
     "name": "stdout",
     "output_type": "stream",
     "text": [
      "Nombre pair\n"
     ]
    }
   ],
   "source": [
    "x=4\n",
    "\n",
    "if(x%2==0):\n",
    "    print(\"Nombre pair\")\n",
    "else:\n",
    "    print(\"Nombre impair\")"
   ]
  },
  {
   "cell_type": "code",
   "execution_count": 15,
   "metadata": {},
   "outputs": [
    {
     "name": "stdout",
     "output_type": "stream",
     "text": [
      "Grade B\n"
     ]
    }
   ],
   "source": [
    "y=90\n",
    "\n",
    "if(y>90):\n",
    "    print(\"Grade A\")\n",
    "elif(y>60):\n",
    "    print(\"Grade B\")\n",
    "else:\n",
    "    print(\"Grade F\")"
   ]
  },
  {
   "cell_type": "markdown",
   "metadata": {},
   "source": [
    "### Looping Conditions"
   ]
  },
  {
   "cell_type": "markdown",
   "metadata": {},
   "source": [
    "#### Exemple de boucle conditionnelle en Python :\n",
    "\n",
    "1. **Boucle While :**\n",
    "   ```python\n",
    "   compteur = 0\n",
    "\n",
    "   while compteur < 5:\n",
    "       print(f\"Valeur du compteur : {compteur}\")\n",
    "       compteur += 1\n",
    "   ```\n",
    "\n",
    "   Cette boucle `while` s'exécute tant que la condition `compteur < 5` est vraie. À chaque itération, la valeur du compteur est affichée, et le compteur est incrémenté de 1. La boucle se termine lorsque la condition n'est plus satisfaite.\n",
    "\n",
    "2. **Boucle For avec range :**\n",
    "   ```python\n",
    "   for i in range(1, 6):\n",
    "       print(f\"Valeur de i : {i}\")\n",
    "   ```\n",
    "\n",
    "   Cette boucle `for` utilise la fonction `range` pour générer une séquence de nombres de 1 à 5 (la limite supérieure est exclusive). À chaque itération, la valeur de `i` est affichée.\n",
    "\n",
    "3. **Boucle For avec liste :**\n",
    "   ```python\n",
    "   fruits = [\"pomme\", \"orange\", \"banane\"]\n",
    "\n",
    "   for fruit in fruits:\n",
    "       print(f\"Fruit : {fruit}\")\n",
    "   ```\n",
    "\n",
    "   Cette boucle `for` parcourt les éléments d'une liste (dans cet exemple, une liste de fruits) et affiche chaque élément à chaque itération.\n",
    "\n",
    "Les boucles conditionnelles (comme `while` et `for`) permettent de répéter l'exécution d'un bloc de code en fonction de certaines conditions ou sur une séquence prédéfinie."
   ]
  },
  {
   "cell_type": "code",
   "execution_count": 19,
   "metadata": {},
   "outputs": [
    {
     "name": "stdout",
     "output_type": "stream",
     "text": [
      "11\n",
      "12\n",
      "13\n",
      "14\n",
      "15\n",
      "16\n",
      "17\n",
      "18\n",
      "19\n",
      "20\n",
      "21\n",
      "22\n",
      "23\n",
      "24\n",
      "25\n",
      "26\n",
      "27\n",
      "28\n",
      "29\n",
      "30\n",
      "31\n",
      "32\n",
      "33\n",
      "34\n",
      "35\n",
      "36\n",
      "37\n",
      "38\n",
      "39\n",
      "40\n",
      "41\n",
      "42\n",
      "43\n",
      "44\n",
      "45\n",
      "46\n",
      "47\n",
      "48\n",
      "49\n"
     ]
    }
   ],
   "source": [
    "for i in range(11,50):\n",
    "    print(i)"
   ]
  },
  {
   "cell_type": "code",
   "execution_count": 20,
   "metadata": {},
   "outputs": [
    {
     "name": "stdout",
     "output_type": "stream",
     "text": [
      "Valeur du compteur : 0\n",
      "Valeur du compteur : 1\n",
      "Valeur du compteur : 2\n",
      "Valeur du compteur : 3\n",
      "Valeur du compteur : 4\n"
     ]
    }
   ],
   "source": [
    "compteur = 0\n",
    "\n",
    "while compteur < 5:\n",
    "    print(f\"Valeur du compteur : {compteur}\")\n",
    "    compteur += 1"
   ]
  },
  {
   "cell_type": "code",
   "execution_count": 21,
   "metadata": {
    "scrolled": true
   },
   "outputs": [
    {
     "name": "stdout",
     "output_type": "stream",
     "text": [
      "Valeur de i : 1\n",
      "Valeur de i : 2\n",
      "Valeur de i : 3\n",
      "Valeur de i : 4\n",
      "Valeur de i : 5\n"
     ]
    }
   ],
   "source": [
    "for i in range(1, 6):\n",
    "    print(f\"Valeur de i : {i}\")"
   ]
  },
  {
   "cell_type": "code",
   "execution_count": 22,
   "metadata": {},
   "outputs": [
    {
     "name": "stdout",
     "output_type": "stream",
     "text": [
      "Fruit : pomme\n",
      "Fruit : orange\n",
      "Fruit : banane\n"
     ]
    }
   ],
   "source": [
    "fruits = [\"pomme\", \"orange\", \"banane\"]\n",
    "\n",
    "for fruit in fruits:\n",
    "    print(f\"Fruit : {fruit}\")"
   ]
  },
  {
   "cell_type": "markdown",
   "metadata": {},
   "source": [
    "## 2. Liste et fonctions\n",
    "\n",
    "### Les fonctions\n",
    "Les fonctions peuvent être intégrées ou définies par l'utilisateur. Examinons certaines des fonctions intégrées"
   ]
  },
  {
   "cell_type": "markdown",
   "metadata": {},
   "source": [
    "### Exemples en Python pour les Listes et les Fonctions :\n",
    "\n",
    "#### Liste :\n",
    "\n",
    "1. **Création d'une liste :**\n",
    "   ```python\n",
    "   fruits = [\"pomme\", \"orange\", \"banane\", \"fraise\"]\n",
    "   ```\n",
    "\n",
    "2. **Accès aux éléments d'une liste :**\n",
    "   ```python\n",
    "   premier_fruit = fruits[0]\n",
    "   dernier_fruit = fruits[-1]\n",
    "   ```\n",
    "\n",
    "3. **Modification d'une liste :**\n",
    "   ```python\n",
    "   fruits[1] = \"kiwi\"\n",
    "   ```\n",
    "\n",
    "4. **Ajout d'éléments à une liste :**\n",
    "   ```python\n",
    "   fruits.append(\"raisin\")\n",
    "   ```\n",
    "\n",
    "5. **Suppression d'éléments d'une liste :**\n",
    "   ```python\n",
    "   del fruits[2]\n",
    "   ```\n",
    "\n",
    "#### Fonctions intégrées :\n",
    "\n",
    "1. **`len()` - Longueur d'une liste :**\n",
    "   ```python\n",
    "   longueur_liste = len(fruits)\n",
    "   ```\n",
    "\n",
    "2. **`sum()` - Somme des éléments d'une liste numérique :**\n",
    "   ```python\n",
    "   nombres = [1, 2, 3, 4, 5]\n",
    "   somme = sum(nombres)\n",
    "   ```\n",
    "\n",
    "3. **`max()` et `min()` - Valeurs maximale et minimale dans une liste :**\n",
    "   ```python\n",
    "   valeur_max = max(nombres)\n",
    "   valeur_min = min(nombres)\n",
    "   ```\n",
    "\n",
    "4. **`sorted()` - Tri d'une liste :**\n",
    "   ```python\n",
    "   nombres_tries = sorted(nombres)\n",
    "   ```\n",
    "\n",
    "5. **`list()` - Conversion d'autres types en listes :**\n",
    "   ```python\n",
    "   chaine = \"python\"\n",
    "   liste_de_caracteres = list(chaine)\n",
    "   ```\n",
    "\n",
    "6. **`range()` - Génération d'une séquence numérique :**\n",
    "   ```python\n",
    "   sequence = list(range(1, 6))\n",
    "   ```\n",
    "\n",
    "Ces exemples illustrent la création, la manipulation et l'utilisation de listes en Python, ainsi que quelques fonctions intégrées telles que `len()`, `sum()`, `max()`, `min()`, `sorted()`, `list()`, et `range()`."
   ]
  },
  {
   "cell_type": "code",
   "execution_count": 24,
   "metadata": {},
   "outputs": [
    {
     "name": "stdout",
     "output_type": "stream",
     "text": [
      "\n",
      "--- list below for num_list ---\n",
      "\n",
      "0 12\n",
      "1 65\n",
      "2 74\n",
      "3 82\n",
      "4 32.6\n",
      "5 71.4\n",
      "6 3.14\n",
      "\n",
      "--- list below for math_constant_list ---\n",
      "\n",
      "0 2.71828\n",
      "1 3.1415926535\n",
      "2 1.32471\n",
      "3 3.3598856662\n",
      "\n",
      "--- list below for names_list ---\n",
      "\n",
      "0 Bernard\n",
      "1 Jonas\n",
      "2 Nomonde\n",
      "3 Robert\n",
      "4 Guido\n",
      "5 Lorenzo\n",
      "6 Pia\n",
      "7 Prisca\n",
      "8 Minnie\n",
      "9 Margaret\n",
      "10 Myrte\n",
      "11 Noa\n",
      "12 Nadia\n"
     ]
    }
   ],
   "source": [
    "# Let's define some list for the following illustrations\n",
    "\n",
    "print('\\n--- list below for num_list ---\\n')\n",
    "num_list = [12, 65, 74, 82, 32.6, 71.4, 3.14]\n",
    "\n",
    "for position, num in enumerate(num_list):\n",
    "  print(position, num)\n",
    "\n",
    "print('\\n--- list below for math_constant_list ---\\n')\n",
    "math_constant_list = [ 2.71828, 3.1415926535, 1.32471, 3.3598856662]\n",
    "\n",
    "for position, num in enumerate(math_constant_list):\n",
    "  print(position, num)\n",
    "\n",
    "print('\\n--- list below for names_list ---\\n')\n",
    "# double quote\n",
    "# names_list=[\"Bernard\", \"Jonas\", \"Nomonde\", \"Robert\", \"Guido\", \"Lorenzo\", \"Pia\", \"Prisca\", \"Minnie\", \"Margaret\", \"Myrte\", \"Noa\", \"Nadia\"]\n",
    "\n",
    "# single quote\n",
    "names_list=['Bernard', 'Jonas', 'Nomonde', 'Robert', 'Guido', 'Lorenzo', 'Pia', 'Prisca', 'Minnie', 'Margaret', 'Myrte', 'Noa', 'Nadia']\n",
    "\n",
    "for position, name in enumerate(names_list):\n",
    "  print(position, name)\n",
    "\n"
   ]
  },
  {
   "cell_type": "code",
   "execution_count": 25,
   "metadata": {},
   "outputs": [
    {
     "name": "stdout",
     "output_type": "stream",
     "text": [
      "<class 'int'>\n",
      "Hello gals and guys\n",
      "Enter a number: 45\n",
      "45\n"
     ]
    }
   ],
   "source": [
    "# type() - Find the data type of any variable as discussed before\n",
    "print(type(2))\n",
    "\n",
    "# print() is also a builtin function\n",
    "print(\"Hello gals and guys\")\n",
    "\n",
    "# input()\n",
    "a = input(\"Enter a number: \")\n",
    "print(a)"
   ]
  },
  {
   "cell_type": "code",
   "execution_count": 27,
   "metadata": {},
   "outputs": [
    {
     "data": {
      "text/plain": [
       "1.32471"
      ]
     },
     "execution_count": 27,
     "metadata": {},
     "output_type": "execute_result"
    }
   ],
   "source": [
    "# min() - minimum\n",
    "min(math_constant_list)"
   ]
  },
  {
   "cell_type": "code",
   "execution_count": 28,
   "metadata": {},
   "outputs": [
    {
     "data": {
      "text/plain": [
       "'Robert'"
      ]
     },
     "execution_count": 28,
     "metadata": {},
     "output_type": "execute_result"
    }
   ],
   "source": [
    "# max() - maximum\n",
    "max(names_list)"
   ]
  },
  {
   "cell_type": "code",
   "execution_count": 29,
   "metadata": {},
   "outputs": [
    {
     "data": {
      "text/plain": [
       "'Margaret'"
      ]
     },
     "execution_count": 29,
     "metadata": {},
     "output_type": "execute_result"
    }
   ],
   "source": [
    "max(names_list,key=len)# max() or min() function returns the first element when there are two or more elements with the same length."
   ]
  },
  {
   "cell_type": "code",
   "execution_count": null,
   "metadata": {},
   "outputs": [],
   "source": [
    "# len() - length\n",
    "len(names_list)"
   ]
  },
  {
   "cell_type": "code",
   "execution_count": null,
   "metadata": {},
   "outputs": [],
   "source": [
    "# round(no,n) - roundoff no to n digits\n",
    "round(math_constant_list[2],5)"
   ]
  },
  {
   "cell_type": "code",
   "execution_count": null,
   "metadata": {},
   "outputs": [],
   "source": [
    "# help() - check the details of the function\n",
    "help(len)"
   ]
  },
  {
   "cell_type": "code",
   "execution_count": null,
   "metadata": {},
   "outputs": [],
   "source": [
    "# range(n) - returns a range of numbers between 0 to n-1\n",
    "print(range(6))\n",
    "# range(i,n) - returns a range of numbers between i to n-1\n",
    "print(range(1,5))\n",
    "# range(i,n,a) - returns a range of numbers between i to n-1 differing by a\n",
    "print(range(2,8,3))"
   ]
  },
  {
   "cell_type": "markdown",
   "metadata": {},
   "source": [
    "### Exemples de définition de fonctions par un utilisateur en Python :\n",
    "\n",
    "1. **Fonction simple sans paramètre :**\n",
    "   ```python\n",
    "   def saluer():\n",
    "       print(\"Bonjour !\")\n",
    "\n",
    "   # Appel de la fonction\n",
    "   saluer()\n",
    "   ```\n",
    "\n",
    "2. **Fonction avec des paramètres :**\n",
    "   ```python\n",
    "   def addition(a, b):\n",
    "       resultat = a + b\n",
    "       return resultat\n",
    "\n",
    "   # Appel de la fonction\n",
    "   somme = addition(3, 5)\n",
    "   print(\"La somme est :\", somme)\n",
    "   ```\n",
    "\n",
    "3. **Fonction avec des paramètres par défaut :**\n",
    "   ```python\n",
    "   def presenter(nom, age=30):\n",
    "       print(f\"Je m'appelle {nom} et j'ai {age} ans.\")\n",
    "\n",
    "   # Appel de la fonction\n",
    "   presenter(\"Alice\")\n",
    "   presenter(\"Bob\", 25)\n",
    "   ```\n",
    "\n",
    "4. **Fonction avec une instruction conditionnelle :**\n",
    "   ```python\n",
    "   def est_pair(nombre):\n",
    "       if nombre % 2 == 0:\n",
    "           return True\n",
    "       else:\n",
    "           return False\n",
    "\n",
    "   # Appel de la fonction\n",
    "   resultat = est_pair(7)\n",
    "   print(\"Est pair :\", resultat)\n",
    "   ```\n",
    "\n",
    "5. **Fonction avec une boucle :**\n",
    "   ```python\n",
    "   def imprimer_table_de_multiplication(nombre, limite=10):\n",
    "       for i in range(1, limite + 1):\n",
    "           produit = nombre * i\n",
    "           print(f\"{nombre} x {i} = {produit}\")\n",
    "\n",
    "   # Appel de la fonction\n",
    "   imprimer_table_de_multiplication(5)\n",
    "   ```\n",
    "\n",
    "6. **Fonction récursive :**\n",
    "   ```python\n",
    "   def factoriel(n):\n",
    "       if n == 0 or n == 1:\n",
    "           return 1\n",
    "       else:\n",
    "           return n * factoriel(n - 1)\n",
    "\n",
    "   # Appel de la fonction\n",
    "   resultat_factoriel = factoriel(5)\n",
    "   print(\"Factoriel de 5 :\", resultat_factoriel)\n",
    "   ```\n",
    "\n",
    "Ces exemples montrent comment définir des fonctions avec et sans paramètres, utiliser des valeurs par défaut, inclure des instructions conditionnelles et des boucles, ainsi que créer une fonction récursive en Python."
   ]
  },
  {
   "cell_type": "markdown",
   "metadata": {},
   "source": [
    "Nous définissons la fonction définie par l'utilisateur à l'aide du mot-clé `def`\n",
    "\n",
    "``` python\n",
    "def function_name(params=default_value(optional)):\n",
    "  function_definition\n",
    "```"
   ]
  },
  {
   "cell_type": "code",
   "execution_count": null,
   "metadata": {},
   "outputs": [],
   "source": [
    "# Finding the square of n\n",
    "def square(i):\n",
    "  return i*i\n",
    "\n",
    "print(square(5))"
   ]
  },
  {
   "cell_type": "code",
   "execution_count": null,
   "metadata": {},
   "outputs": [],
   "source": [
    "#This function will greet you if you pass a name\n",
    "def greet(username,n):\n",
    "  return (\"Hello \"+ username +\" Nice to have you abroad\"),(\"You are the \" +str(n)+\"th customer\")\n",
    "\n",
    "\n",
    "greet(\"Ségal\",5)"
   ]
  },
  {
   "cell_type": "markdown",
   "metadata": {},
   "source": [
    "## Listes\n",
    "Une liste est une collection ordonnée et modifiable. En Python, les listes sont écrites entre crochets."
   ]
  },
  {
   "cell_type": "markdown",
   "metadata": {},
   "source": [
    "### Exemples de manipulation de listes en Python :\n",
    "\n",
    "1. **Création d'une liste :**\n",
    "   ```python\n",
    "   fruits = [\"pomme\", \"orange\", \"banane\", \"fraise\"]\n",
    "   ```\n",
    "\n",
    "2. **Accès aux éléments d'une liste :**\n",
    "   ```python\n",
    "   premier_fruit = fruits[0]\n",
    "   deuxieme_fruit = fruits[1]\n",
    "   dernier_fruit = fruits[-1]\n",
    "   ```\n",
    "\n",
    "3. **Modification d'une liste :**\n",
    "   ```python\n",
    "   fruits[1] = \"kiwi\"\n",
    "   ```\n",
    "\n",
    "4. **Ajout d'éléments à une liste :**\n",
    "   ```python\n",
    "   fruits.append(\"raisin\")\n",
    "   ```\n",
    "\n",
    "5. **Suppression d'éléments d'une liste par valeur :**\n",
    "   ```python\n",
    "   fruits.remove(\"banane\")\n",
    "   ```\n",
    "\n",
    "6. **Suppression d'éléments d'une liste par indice :**\n",
    "   ```python\n",
    "   del fruits[2]\n",
    "   ```\n",
    "\n",
    "7. **Boucle à travers une liste :**\n",
    "   ```python\n",
    "   for fruit in fruits:\n",
    "       print(f\"Fruit : {fruit}\")\n",
    "   ```\n",
    "\n",
    "8. **Vérification de l'existence d'un élément dans une liste :**\n",
    "   ```python\n",
    "   if \"kiwi\" in fruits:\n",
    "       print(\"Le kiwi est dans la liste.\")\n",
    "   ```\n",
    "\n",
    "9. **Concaténation de listes :**\n",
    "   ```python\n",
    "   legumes = [\"carotte\", \"brocoli\", \"poivron\"]\n",
    "   liste_combinee = fruits + legumes\n",
    "   ```\n",
    "\n",
    "10. **Longueur d'une liste :**\n",
    "    ```python\n",
    "    longueur_liste = len(fruits)\n",
    "    ```\n",
    "\n",
    "11. **Liste de nombres avec la fonction `range()` :**\n",
    "    ```python\n",
    "    nombres = list(range(1, 6))\n",
    "    ```\n",
    "\n",
    "12. **Liste en compréhension :**\n",
    "    ```python\n",
    "    carres = [x ** 2 for x in range(1, 6)]\n",
    "    ```\n",
    "\n",
    "Ces exemples illustrent diverses opérations que vous pouvez effectuer sur les listes en Python, telles que la création, la modification, l'accès aux éléments, la boucle à travers, la vérification de l'existence, la concaténation, et plus encore. Les listes offrent une grande flexibilité pour stocker et manipuler des collections d'éléments."
   ]
  },
  {
   "cell_type": "code",
   "execution_count": 36,
   "metadata": {},
   "outputs": [],
   "source": [
    "fruits = [\"pomme\", \"orange\", \"banane\", \"fraise\"]"
   ]
  },
  {
   "cell_type": "code",
   "execution_count": 37,
   "metadata": {},
   "outputs": [
    {
     "name": "stdout",
     "output_type": "stream",
     "text": [
      "pomme\n",
      "orange\n",
      "fraise\n",
      "\n",
      "---\n",
      "\n",
      "Fruit : pomme\n",
      "Fruit : orange\n",
      "Fruit : banane\n",
      "Fruit : fraise\n"
     ]
    }
   ],
   "source": [
    "premier_fruit = fruits[0]\n",
    "deuxieme_fruit = fruits[1]\n",
    "dernier_fruit = fruits[-1]\n",
    "\n",
    "print(premier_fruit)\n",
    "print(deuxieme_fruit)\n",
    "print(dernier_fruit)\n",
    "\n",
    "print('\\n---\\n')\n",
    "\n",
    "for fruit in fruits:\n",
    "       print(f\"Fruit : {fruit}\")"
   ]
  },
  {
   "cell_type": "code",
   "execution_count": 34,
   "metadata": {},
   "outputs": [
    {
     "name": "stdout",
     "output_type": "stream",
     "text": [
      "<class 'list'>\n"
     ]
    }
   ],
   "source": [
    "list_a = []\n",
    "print (type(list_a))"
   ]
  },
  {
   "cell_type": "code",
   "execution_count": 35,
   "metadata": {},
   "outputs": [],
   "source": [
    "# Let's define some list for the following illustrations\n",
    "\n",
    "num_list = [12, 65, 74, 82, 32.6, 71.4, 673.14]\n",
    "# single quote\n",
    "names_list=['Bernard', 'Jonas', 'Nomonde', 'Robert', 'Guido', 'Lorenzo', 'Pia', 'Prisca', 'Minnie', 'Margaret', 'Myrte', 'Noa', 'Nadia']\n",
    "math_constant_list = [ 2.71828, 3.1415926535, 1.32471, 3.3598856662]"
   ]
  },
  {
   "cell_type": "markdown",
   "metadata": {},
   "source": [
    "### **Indexation**\n",
    "En python, l'indexation commence à 0. Ainsi maintenant la liste x, qui comporte deux éléments, aura pomme à 0 indice et orange à 1 indice."
   ]
  },
  {
   "cell_type": "code",
   "execution_count": 38,
   "metadata": {},
   "outputs": [
    {
     "data": {
      "text/plain": [
       "'Bernard'"
      ]
     },
     "execution_count": 38,
     "metadata": {},
     "output_type": "execute_result"
    }
   ],
   "source": [
    "names_list[0]"
   ]
  },
  {
   "cell_type": "markdown",
   "metadata": {},
   "source": [
    "### Tuples\n",
    "Un tuple est une collection ordonnée et immuable. En Python, les tuples sont écrits entre parenthèses."
   ]
  },
  {
   "cell_type": "markdown",
   "metadata": {},
   "source": [
    "### Exemples d'utilisation des tuples en Python :\n",
    "\n",
    "1. **Création d'un tuple :**\n",
    "   ```python\n",
    "   coordonnees = (3, 5)\n",
    "   ```\n",
    "\n",
    "2. **Accès aux éléments d'un tuple :**\n",
    "   ```python\n",
    "   x = coordonnees[0]\n",
    "   y = coordonnees[1]\n",
    "   ```\n",
    "\n",
    "3. **Tuple avec différents types de données :**\n",
    "   ```python\n",
    "   information_personnelle = (\"John\", 30, \"Masculin\")\n",
    "   ```\n",
    "\n",
    "4. **Déballage de tuple :**\n",
    "   ```python\n",
    "   prenom, age, genre = information_personnelle\n",
    "   ```\n",
    "\n",
    "5. **Tuple imbriqué :**\n",
    "   ```python\n",
    "   point_3D = (1, 2, 3)\n",
    "   coordonnees_x, coordonnees_y, coordonnees_z = point_3D\n",
    "   ```\n",
    "\n",
    "6. **Utilisation de tuple dans une boucle :**\n",
    "   ```python\n",
    "   points = [(1, 2), (3, 5), (6, 9)]\n",
    "\n",
    "   for point in points:\n",
    "       print(f\"Coordonnées : x = {point[0]}, y = {point[1]}\")\n",
    "   ```\n",
    "\n",
    "7. **Longueur d'un tuple :**\n",
    "   ```python\n",
    "   longueur_tuple = len(coordonnees)\n",
    "   ```\n",
    "\n",
    "8. **Vérification de l'existence d'un élément dans un tuple :**\n",
    "   ```python\n",
    "   if 3 in point_3D:\n",
    "       print(\"La valeur 3 existe dans le tuple.\")\n",
    "   ```\n",
    "\n",
    "9. **Conversion d'une liste en tuple :**\n",
    "   ```python\n",
    "   liste = [1, 2, 3]\n",
    "   tuple_converti = tuple(liste)\n",
    "   ```\n",
    "\n",
    "10. **Tuple en compréhension :**\n",
    "    ```python\n",
    "    carres = tuple(x ** 2 for x in range(1, 6))\n",
    "    ```\n",
    "\n",
    "Les tuples en Python sont similaires aux listes, mais ils sont immuables, ce qui signifie qu'une fois créés, leurs éléments ne peuvent pas être modifiés. Ils sont souvent utilisés pour représenter des ensembles de données immuables."
   ]
  },
  {
   "cell_type": "markdown",
   "metadata": {},
   "source": [
    "## Forfaits et cours\n",
    "\n",
    "La création de packages et de classes en Python est une fonctionnalité importante qui en fait un langage de programmation orienté objet. Il apporte modularité et dynamisme.\n",
    "\n",
    "### Paquets\n",
    "Un package est un dossier qui contient d’autres programmes ou sous-modules plus petits.\n",
    "\n",
    "#### Importation de packages\n",
    "Les packages doivent toujours être importés en premier dans le programme. Le package est importé à l'aide du mot-clé *import*\n",
    "\n",
    "`importer package_name`"
   ]
  },
  {
   "cell_type": "markdown",
   "metadata": {},
   "source": [
    "Lorsque vous importez le module `time` en Python, vous avez accès à différentes fonctions liées au temps, telles que la gestion du temps et les temporisations. Voici quelques exemples d'utilisation du module `time` :\n",
    "\n",
    "1. **Affichage de l'heure actuelle :**\n",
    "   ```python\n",
    "   import time\n",
    "\n",
    "   heure_actuelle = time.localtime()\n",
    "   print(f\"Heure actuelle : {heure_actuelle.tm_hour}:{heure_actuelle.tm_min}\")\n",
    "   ```\n",
    "\n",
    "2. **Pause d'exécution du programme pendant quelques secondes :**\n",
    "   ```python\n",
    "   import time\n",
    "\n",
    "   print(\"Début du processus...\")\n",
    "   time.sleep(3)  # Pause de 3 secondes\n",
    "   print(\"Fin du processus.\")\n",
    "   ```\n",
    "\n",
    "3. **Mesure du temps d'exécution d'un morceau de code :**\n",
    "   ```python\n",
    "   import time\n",
    "\n",
    "   temps_debut = time.time()\n",
    "\n",
    "   # Code à mesurer\n",
    "   for _ in range(1000000):\n",
    "       pass\n",
    "\n",
    "   temps_fin = time.time()\n",
    "   temps_execution = temps_fin - temps_debut\n",
    "\n",
    "   print(f\"Temps d'exécution : {temps_execution} secondes\")\n",
    "   ```\n",
    "\n",
    "4. **Conversion de temps en format lisible :**\n",
    "   ```python\n",
    "   import time\n",
    "\n",
    "   temps_epoch = time.time()\n",
    "   temps_local = time.localtime(temps_epoch)\n",
    "   temps_lisible = time.strftime(\"%Y-%m-%d %H:%M:%S\", temps_local)\n",
    "\n",
    "   print(f\"Temps epoch : {temps_epoch}\")\n",
    "   print(f\"Temps local : {temps_lisible}\")\n",
    "   ```\n",
    "\n",
    "5. **Utilisation de `time` pour mesurer la durée d'une opération :**\n",
    "   ```python\n",
    "   import time\n",
    "\n",
    "   debut_operation = time.time()\n",
    "\n",
    "   # Opération à mesurer\n",
    "   resultats = [x for x in range(1000000)]\n",
    "\n",
    "   fin_operation = time.time()\n",
    "   duree_operation = fin_operation - debut_operation\n",
    "\n",
    "   print(f\"Durée de l'opération : {duree_operation} secondes\")\n",
    "   ```\n",
    "\n",
    "L'importation du module `time` en Python vous donne accès à plusieurs fonctions qui facilitent la gestion du temps et l'ajout de temporisations dans vos programmes."
   ]
  },
  {
   "cell_type": "code",
   "execution_count": 40,
   "metadata": {},
   "outputs": [
    {
     "name": "stdout",
     "output_type": "stream",
     "text": [
      "Heure actuelle : 17:22\n"
     ]
    }
   ],
   "source": [
    "import time\n",
    "\n",
    "heure_actuelle = time.localtime()\n",
    "print(f\"Heure actuelle : {heure_actuelle.tm_hour}:{heure_actuelle.tm_min}\")"
   ]
  },
  {
   "cell_type": "code",
   "execution_count": 41,
   "metadata": {},
   "outputs": [
    {
     "name": "stdout",
     "output_type": "stream",
     "text": [
      "Début du processus...\n",
      "Fin du processus.\n"
     ]
    }
   ],
   "source": [
    "import time\n",
    "\n",
    "print(\"Début du processus...\")\n",
    "time.sleep(3)  # Pause de 3 secondes\n",
    "print(\"Fin du processus.\")"
   ]
  },
  {
   "cell_type": "code",
   "execution_count": null,
   "metadata": {},
   "outputs": [],
   "source": [
    "# Importing package\n",
    "import time"
   ]
  },
  {
   "cell_type": "code",
   "execution_count": null,
   "metadata": {},
   "outputs": [],
   "source": [
    "# Importing package\n",
    "import time\n",
    "\n",
    "obj = time.localtime(1627987508.6496193)\n",
    "print(obj)\n",
    "\n",
    "# https://www.geeksforgeeks.org/python-time-module/"
   ]
  },
  {
   "cell_type": "code",
   "execution_count": null,
   "metadata": {},
   "outputs": [],
   "source": [
    "from datetime import datetime\n",
    "# today = datetime.today\n",
    "# print(today)\n"
   ]
  },
  {
   "cell_type": "code",
   "execution_count": null,
   "metadata": {},
   "outputs": [],
   "source": [
    "from datetime import datetime\n",
    "\n",
    "current_dateTime = datetime.now()\n",
    "\n",
    "print(current_dateTime.year) # 2022\n",
    "\n",
    "print(current_dateTime.month) # 9\n",
    "\n",
    "print(current_dateTime.day) # 20\n",
    "\n",
    "print(current_dateTime.hour) # 11\n",
    "\n",
    "print(current_dateTime.minute) # 27\n",
    "\n",
    "print(current_dateTime.second) # 46\n",
    "\n",
    "print(current_dateTime.microsecond) # 582035"
   ]
  },
  {
   "cell_type": "code",
   "execution_count": null,
   "metadata": {},
   "outputs": [],
   "source": [
    "from datetime import datetime\n",
    "import pytz\n",
    "\n",
    "all_timezones = pytz.all_timezones\n",
    "\n",
    "print(all_timezones)\n",
    "# [List of all timezones...]"
   ]
  },
  {
   "cell_type": "markdown",
   "metadata": {},
   "source": [
    "## L'indentation en Python"
   ]
  },
  {
   "cell_type": "markdown",
   "metadata": {},
   "source": [
    "En Python, l'indentation est une partie intégrante de la syntaxe du langage et est utilisée pour définir la structure du code. Contrairement à de nombreux autres langages de programmation qui utilisent des accolades `{}` pour délimiter les blocs de code, Python utilise l'indentation pour indiquer le début et la fin des blocs. Voici quelques points importants à comprendre sur l'indentation en Python :\n",
    "\n",
    "1. **Indentation détermine les blocs de code :** En Python, l'indentation (généralement quatre espaces ou une tabulation) est utilisée pour délimiter les blocs de code. Un bloc de code est une suite d'instructions regroupées logiquement. Par exemple, une boucle `for`, une condition `if`, une fonction, etc.\n",
    "\n",
    "   Exemple :\n",
    "   ```python\n",
    "   for i in range(5):\n",
    "       print(i)  # Le bloc de code à l'intérieur de la boucle est indenté.\n",
    "   ```\n",
    "\n",
    "2. **Consistance dans l'indentation :** Vous devez être cohérent dans l'utilisation de l'indentation tout au long de votre code. Si vous commencez un bloc avec une indentation de quatre espaces, assurez-vous de continuer avec la même indentation pour les autres blocs.\n",
    "\n",
    "   Exemple :\n",
    "   ```python\n",
    "   if x > 0:\n",
    "       print(\"x est positif.\")\n",
    "       print(\"Ceci est toujours dans le bloc if.\")\n",
    "   ```\n",
    "\n",
    "3. **Pas de caractères spéciaux :** Python n'utilise pas d'accolades ou de mots-clés spéciaux pour délimiter les blocs. Par conséquent, l'indentation est cruciale pour la compréhension du code.\n",
    "\n",
    "4. **Erreur d'indentation :** Une mauvaise indentation entraînera des erreurs de syntaxe ou un comportement indésirable du programme. Cela peut être une source fréquente d'erreurs pour les nouveaux développeurs Python.\n",
    "\n",
    "   Exemple d'erreur :\n",
    "   ```python\n",
    "   for i in range(5):\n",
    "   print(i)  # Erreur d'indentation\n",
    "   ```\n",
    "\n",
    "L'indentation en Python encourage la lisibilité du code en forçant les développeurs à structurer visuellement leur code de manière claire. Cela contribue à rendre le code plus lisible, mais nécessite également une attention particulière à la cohérence de l'indentation tout au long du script."
   ]
  },
  {
   "cell_type": "code",
   "execution_count": 46,
   "metadata": {},
   "outputs": [
    {
     "name": "stdout",
     "output_type": "stream",
     "text": [
      "0\n",
      "1\n",
      "2\n",
      "3\n",
      "4\n"
     ]
    }
   ],
   "source": [
    "# code en erreur\n",
    "# for i in range(5):\n",
    "# print(i)  # Erreur d'indentation\n",
    "\n",
    "# code bon\n",
    "for i in range(5):\n",
    " print(i)  # Erreur d'indentation"
   ]
  },
  {
   "cell_type": "markdown",
   "metadata": {},
   "source": [
    "### Jupyter notebooks et bash  "
   ]
  },
  {
   "cell_type": "code",
   "execution_count": 16,
   "metadata": {},
   "outputs": [
    {
     "name": "stdout",
     "output_type": "stream",
     "text": [
      "Python 3.11.6\n"
     ]
    }
   ],
   "source": [
    "\n",
    "# SHELL\n",
    "# !echo $SHELL\n",
    "\n",
    "# PATH\n",
    "# !echo $PATH\n",
    "\n",
    "# python version\n",
    "!python --version\n",
    "\n"
   ]
  },
  {
   "cell_type": "markdown",
   "metadata": {},
   "source": [
    " ### Notebooks Jupyter et bash : Navigation dans la console"
   ]
  },
  {
   "cell_type": "code",
   "execution_count": 1,
   "metadata": {},
   "outputs": [
    {
     "name": "stdout",
     "output_type": "stream",
     "text": [
      "001_Test_BF_Python.ipynb\n",
      "Goldfish-Memory-with-buffer-full_README.md\n",
      "Python101_Intro_to_Python.ipynb\n",
      "_settings_000_jupyter_notebooks.diff\n",
      "yoyo_there.py\n",
      "/Users/brunoflaven/Documents/02_copy/_000_IA_bruno_light/002_learning_python_for_family/000_jupyter_notebooks\n"
     ]
    }
   ],
   "source": [
    "# check like on linux\n",
    "!ls\n",
    "!pwd\n",
    "\n",
    "# create a dir and go to the dir\n",
    "# !mkdir test\n",
    "\n",
    "# go to the directory\n",
    "# %cd test\n"
   ]
  },
  {
   "cell_type": "markdown",
   "metadata": {},
   "source": [
    "- 3. Other command"
   ]
  },
  {
   "cell_type": "code",
   "execution_count": 3,
   "metadata": {},
   "outputs": [
    {
     "name": "stdout",
     "output_type": "stream",
     "text": [
      "/Users/brunoflaven/Documents/02_copy/_000_IA_bruno_light/002_learning_python_for_family/000_jupyter_notebooks\n",
      "Yo yo I am there.... in test\n"
     ]
    }
   ],
   "source": [
    "# go to the directory\n",
    "# %cd test\n",
    "\n",
    "!pwd\n",
    "\n",
    "# launch the file yoyo_there.py\n",
    "!python yoyo_there.py"
   ]
  },
  {
   "cell_type": "markdown",
   "metadata": {},
   "source": [
    "## Source \n",
    "**Testing stuff with jupyter notebook**\n",
    "\n",
    "*extract from https://colab.research.google.com/github/wecacuee/ECE490-Neural-Networks/blob/master/notebooks/01-py-intro/Python_1.ipynb#scrollTo=52LJZtRuFYau*"
   ]
  },
  {
   "cell_type": "code",
   "execution_count": null,
   "metadata": {},
   "outputs": [],
   "source": []
  }
 ],
 "metadata": {
  "kernelspec": {
   "display_name": "Python 3 (ipykernel)",
   "language": "python",
   "name": "python3"
  },
  "language_info": {
   "codemirror_mode": {
    "name": "ipython",
    "version": 3
   },
   "file_extension": ".py",
   "mimetype": "text/x-python",
   "name": "python",
   "nbconvert_exporter": "python",
   "pygments_lexer": "ipython3",
   "version": "3.11.6"
  }
 },
 "nbformat": 4,
 "nbformat_minor": 2
}
