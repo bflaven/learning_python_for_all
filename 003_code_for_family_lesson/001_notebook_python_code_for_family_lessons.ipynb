{
 "cells": [
  {
   "cell_type": "markdown",
   "metadata": {},
   "source": [
    "# Python Code For Family Lessons\n",
    "\n",
    "Un petit nombre de questions que l’on se pose, quand on est enfant ou adolescent, et que nos parents ou nos professeurs nous conseillent d’apprendre la programmation en Python .\n",
    "\n",
    "> \"Il n'y a pas de question idiote, seulement une réponse idiote.\" Albert Einstein\n",
    "\n",
    "> \"Si tu ne sais pas, pose la question\". Ma grand-mère, Alice\n",
    "\n",
    "\n"
   ]
  },
  {
   "cell_type": "markdown",
   "metadata": {},
   "source": [
    "Ce jupyter notebook a été écrit en grande partie par l’IA car il est aussi une initiation à l’art du prompt.\n",
    "Je donne deux réponses, l'une formulé par une AI (ChatGPT et Mistral AI) pour me donner une réponse détaillée et je donne ma réponse succincte pour avoir l’essentiel.\n",
    "\n",
    "\n",
    "- ChatGPT 3.5 [https://chat.openai.com/](https://chat.openai.com/)\n",
    "- Mistral AI: The Mistral 7B model released by Mistral AI [https://ollama.ai/library/mistral:text](https://ollama.ai/library/mistral:text)\n"
   ]
  },
  {
   "cell_type": "markdown",
   "metadata": {},
   "source": [
    "## - Comment va-t-on dans le language de programmation Python sur un Mac ?"
   ]
  },
  {
   "cell_type": "markdown",
   "metadata": {},
   "source": [
    "### HUMAIN"
   ]
  },
  {
   "cell_type": "markdown",
   "metadata": {},
   "source": [
    "**On ouvre le terminal (la console) et on tape python.**"
   ]
  },
  {
   "cell_type": "markdown",
   "metadata": {},
   "source": [
    "### ChatGPT 3.5"
   ]
  },
  {
   "cell_type": "markdown",
   "metadata": {},
   "source": [
    "\n",
    "Pour commencer à programmer en Python sur un Mac, suivez ces étapes générales :\n",
    "\n",
    "1. **Vérifier si Python est installé :**\n",
    "   - Ouvrez le terminal (vous pouvez le trouver dans Applications > Utilitaires > Terminal).\n",
    "   - Tapez `python3 --version` ou `python --version` et appuyez sur Entrée pour vérifier si Python est déjà installé. Si vous ne l'avez pas, vous devrez l'installer.\n",
    "\n",
    "2. **Installer Python :**\n",
    "   - Vous pouvez télécharger la dernière version de Python sur le site officiel (https://www.python.org/downloads/).\n",
    "   - Suivez les instructions d'installation. Assurez-vous de cocher l'option pour ajouter Python au chemin (Add Python to PATH) lors de l'installation.\n",
    "\n",
    "3. **Vérifier l'installation :**\n",
    "   - Ouvrez le terminal et tapez `python3` ou `python` pour lancer l'interpréteur Python. Vous devriez voir le prompt Python (`>>>`), indiquant que Python est installé correctement.\n",
    "\n",
    "4. **Installer un éditeur de texte ou un environnement de développement (IDE) :**\n",
    "   - Vous pouvez utiliser des éditeurs de texte tels que VSCode, Sublime Text, Atom, ou installer un IDE comme PyCharm, qui est spécialement conçu pour Python.\n",
    "\n",
    "5. **Écrire et exécuter votre premier programme :**\n",
    "   - Ouvrez votre éditeur de texte ou votre IDE, créez un nouveau fichier avec l'extension `.py` (par exemple, `mon_programme.py`).\n",
    "   - Écrivez votre code Python dans le fichier. Par exemple :\n",
    "     ```python\n",
    "     print(\"Bonjour, Python sur Mac!\")\n",
    "     ```\n",
    "   - Enregistrez le fichier.\n",
    "   - Retournez dans le terminal, naviguez jusqu'au répertoire où vous avez enregistré votre fichier Python, puis exécutez-le avec la commande `python3 mon_programme.py`.\n",
    "\n",
    "Ainsi, vous devriez être prêt à commencer à programmer en Python sur votre Mac. N'hésitez pas à explorer la documentation Python et les tutoriels en ligne pour approfondir vos connaissances."
   ]
  },
  {
   "cell_type": "code",
   "execution_count": 9,
   "metadata": {},
   "outputs": [
    {
     "name": "stdout",
     "output_type": "stream",
     "text": [
      "Bonjour, Python sur Mac!\n"
     ]
    }
   ],
   "source": [
    "# lancer la command python3 mon_programme.py dans la console impirme ce texte \"Bonjour, Python sur Mac!\"\n",
    "print(\"Bonjour, Python sur Mac!\")"
   ]
  },
  {
   "cell_type": "markdown",
   "metadata": {},
   "source": [
    "### Mistral AI"
   ]
  },
  {
   "cell_type": "markdown",
   "metadata": {},
   "source": [
    "Si vous ne connaissez pas encore Python, il est très probable que vous l'aurez entendu parler : Python est une des \n",
    "langues de programmation les plus populaires et la plupart des utilisateurs en font leurs premiers pas. Mais vous \n",
    "pouvez aussi être un programmeur expérimenté qui aime la clarté de syntaxe et le puissant écosystème qu'offre cette\n",
    "belle langue.\n",
    "\n",
    "Pour commencer, lisez cet article pour comprendre les points forts de Python, puis en profitez pour vous procurer \n",
    "un éditeur de texte convenable, tel que Sublime Text ou Atom. Si vous ne savez pas encore comment installer Python \n",
    "sur votre Mac, ne vous inquiétez pas : ce sera facile avec l'une des méthodes suivantes.\n",
    "\n",
    "Si vous êtes déjà au courant de la programmation en Python et que vous voulez essayer un autre environnement ou une\n",
    "nouvelle version de Python, c'est parfaitement possible. La plupart des options proposent plusieurs versions de \n",
    "Python et vous pouvez aussi les tester avant d'installer définitivement.\n",
    "\n",
    "**Maquettes en ligne et IDEs**\n",
    "\n",
    "Pour essayer Python sans avoir à installer un éditeur de texte ou un environnement complet, il existe plusieurs \n",
    "alternatives en ligne. Si vous voulez tester quelques commandes, une des méthodes les plus faciles consiste à \n",
    "utiliser la maquette en ligne [Try it Online](https://tio.run/#python3) :\n",
    "\n",
    "La première chose que vous devez faire est de cliquer sur le bouton \"Select language\" et sélectionner Python 3. \n",
    "Vous pouvez ensuite entrer votre code dans la zone \"Write your program here\". Si vous ne savez pas encore comment \n",
    "commencer, vous pouvez essayer quelques exemples comme \"Hello World!\" ou afficher une phrase spécifique. Une fois \n",
    "que vous avez terminé, cliquez sur \"Run\", et la maquette va exécuter votre code et vous afficher les résultats.\n",
    "\n",
    "Si vous voulez tester plus de choses sans avoir à installer un éditeur de texte ou un environnement complet, il \n",
    "existe encore quelques autres alternatives en ligne. Si vous voulez tester quelques commandes, une des méthodes les\n",
    "plus faciles consiste à utiliser la maquette en ligne [Try it Online](https://tio.run/#python3) :\n",
    "\n"
   ]
  },
  {
   "cell_type": "code",
   "execution_count": 10,
   "metadata": {},
   "outputs": [],
   "source": [
    "## - Comment va-t-on dans le language de programmation Python sur un Mac ?"
   ]
  },
  {
   "cell_type": "markdown",
   "metadata": {},
   "source": [
    "### HUMAIN\n"
   ]
  },
  {
   "cell_type": "markdown",
   "metadata": {},
   "source": [
    "- Une adition, c'est le signe +\n",
    "\n",
    "Par exemple 12+3\n",
    "\n",
    "- Une soustraction, c'est le signe -\n",
    "\n",
    "Par exemple 12-3\n",
    "\n",
    "- Une multiplication, c'est le signe *\n",
    "\n",
    "Par exemple 12*3\n",
    "\n",
    "- Une division, c'est le signe /\n",
    "\n",
    "Par exemple 12/3"
   ]
  },
  {
   "cell_type": "markdown",
   "metadata": {},
   "source": [
    "### ChatGPT 3.5"
   ]
  },
  {
   "cell_type": "markdown",
   "metadata": {},
   "source": [
    "En Python, vous pouvez effectuer des opérations arithmétiques de base telles que l'addition, la soustraction, la multiplication et la division. Voici comment vous pouvez les faire :\n",
    "\n",
    "1. **Addition :**\n",
    "   ```python\n",
    "   a = 5\n",
    "   b = 3\n",
    "   resultat_addition = a + b\n",
    "   print(resultat_addition)\n",
    "   ```\n",
    "\n",
    "2. **Soustraction :**\n",
    "   ```python\n",
    "   a = 5\n",
    "   b = 3\n",
    "   resultat_soustraction = a - b\n",
    "   print(resultat_soustraction)\n",
    "   ```\n",
    "\n",
    "3. **Multiplication :**\n",
    "   ```python\n",
    "   a = 5\n",
    "   b = 3\n",
    "   resultat_multiplication = a * b\n",
    "   print(resultat_multiplication)\n",
    "   ```\n",
    "\n",
    "4. **Division :**\n",
    "   ```python\n",
    "   a = 6\n",
    "   b = 2\n",
    "   resultat_division = a / b\n",
    "   print(resultat_division)\n",
    "   ```\n",
    "   Notez que la division (`/`) dans Python 3 effectue une division réelle, ce qui signifie que le résultat peut être un nombre décimal. Si vous voulez effectuer une division entière et obtenir le quotient entier, vous pouvez utiliser l'opérateur `//` :\n",
    "   ```python\n",
    "   a = 6\n",
    "   b = 2\n",
    "   resultat_division_entiere = a // b\n",
    "   print(resultat_division_entiere)\n",
    "   ```\n",
    "\n",
    "N'hésitez pas à ajuster les valeurs de `a` et `b` selon vos besoins. Ces exemples illustrent comment utiliser les opérateurs arithmétiques de base en Python."
   ]
  },
  {
   "cell_type": "markdown",
   "metadata": {},
   "source": [
    "### Mistral AI"
   ]
  },
  {
   "cell_type": "markdown",
   "metadata": {},
   "source": [
    "En Python, comment fait-on une adition, une soustraction, une multiplication et une division ?\n",
    "\n",
    "La somme est :\n",
    "\n",
    "a + b\n",
    "\n",
    "La différence est :\n",
    "\n",
    "a - b\n",
    "\n",
    "Le produit est :\n",
    "\n",
    "a * b\n",
    "\n",
    "La quotient est :\n",
    "\n",
    "a / b\n",
    "\n",
    "(si a ou b est négatif, le résultat sera une valeur imaginaire)."
   ]
  },
  {
   "cell_type": "markdown",
   "metadata": {},
   "source": [
    "## Comment fait-on pour exécuter un script du nom de arthur-script-1.py ?"
   ]
  },
  {
   "cell_type": "markdown",
   "metadata": {},
   "source": [
    "### HUMAIN"
   ]
  },
  {
   "cell_type": "markdown",
   "metadata": {},
   "source": [
    "**Voilà les 3 étapes pour lancer un script**\n",
    "- 1. On crée un fichier du nom de arthur-script-1.py\n",
    "- 2. On se rend dans le répertoire contenant le fichier arthur-script-1.py dans la console\n",
    "- 3. On lance dans la console le fichier arthur-script-1.py\n",
    "\n",
    "```bash\n",
    "# commande_1\n",
    "cd /Users/brunoflaven/Documents/03_git/learning_python_for_all/003_code_for_family_lesson/\n",
    "\n",
    "# commande_2\n",
    "python arthur-script-1.py\n",
    "python arthur-script-2.py\n",
    "python arthur-script-3.py\n",
    "\n",
    "```"
   ]
  },
  {
   "cell_type": "markdown",
   "metadata": {},
   "source": [
    "### ChatGPT 3.5"
   ]
  },
  {
   "cell_type": "markdown",
   "metadata": {},
   "source": [
    "Pour exécuter un script Python depuis le terminal, suivez ces étapes :\n",
    "\n",
    "1. **Ouvrez le Terminal :** Vous pouvez le trouver dans Applications > Utilitaires > Terminal.\n",
    "\n",
    "2. **Naviguez vers le répertoire du script :** Utilisez la commande `cd` pour vous déplacer vers le répertoire où se trouve votre script. Par exemple, si votre script est sur le bureau, vous pouvez utiliser la commande :\n",
    "   ```bash\n",
    "   cd Bureau\n",
    "   ```\n",
    "\n",
    "3. **Exécutez le script :** Une fois que vous êtes dans le répertoire contenant votre script, utilisez la commande `python3` (ou simplement `python` selon votre configuration) suivie du nom du script pour l'exécuter. Par exemple :\n",
    "   ```bash\n",
    "   python3 arthur-script-1.py\n",
    "   ```\n",
    "   Si vous avez plusieurs versions de Python installées, assurez-vous d'utiliser la version correcte (3.x) en spécifiant `python3` plutôt que `python`.\n",
    "\n",
    "Assurez-vous que Python est correctement installé sur votre système. Si vous avez suivi les étapes d'installation mentionnées précédemment, cela devrait fonctionner sans problème.\n",
    "\n",
    "Notez que si votre script utilise des fonctionnalités spécifiques à une version de Python, vous devrez peut-être ajuster la commande d'exécution en conséquence."
   ]
  },
  {
   "cell_type": "markdown",
   "metadata": {},
   "source": [
    "### Mistral AI"
   ]
  },
  {
   "cell_type": "markdown",
   "metadata": {},
   "source": [
    "Pour exécuter un script, vous devez ouvrir la ligne de commande et aller dans le répertoire contenant votre script avec cd (ex :\n",
    "cd C:\\Python25\\Projets). Ensuite, vous devez taper python arthur-script-1.py"
   ]
  },
  {
   "cell_type": "markdown",
   "metadata": {},
   "source": [
    "## Quelles sont les commandes principales à connaître quand on est dans la console ?"
   ]
  },
  {
   "cell_type": "markdown",
   "metadata": {},
   "source": [
    "### HUMAIN"
   ]
  },
  {
   "cell_type": "markdown",
   "metadata": {},
   "source": [
    "**Quelques commandes à taper dans la console**\n",
    "- 1. Pour lister les fichiers dans la console je fais `ls -l`\n",
    "- 2. Pour savoir dans quel répertoire je suis je fais `pwd`\n",
    "- 3. Pour nettoyer la console, je fais `clear`\n",
    "- 4. Pour déplacer dans un repertoire précis, je fais `cd /Users/brunoflaven/Documents/_code_for_family/`\n",
    "\n",
    "**Quelques défintions sur les abréviations**\n",
    "- pwd est une abréviation de `print working directory`\n",
    "- cd est une abréviation de `change directory`\n",
    "- ls est une abréviation de `list`"
   ]
  },
  {
   "cell_type": "markdown",
   "metadata": {},
   "source": [
    "### ChatGPT 3.5"
   ]
  },
  {
   "cell_type": "markdown",
   "metadata": {},
   "source": [
    "La console, également appelée terminal ou ligne de commande, est un moyen puissant d'interagir avec votre système d'exploitation. Voici quelques commandes de base que vous pourriez trouver utiles :\n",
    "\n",
    "1. **Navigation dans les répertoires :**\n",
    "   - `cd` : Change le répertoire. Par exemple, `cd Documents` vous déplace dans le répertoire \"Documents\".\n",
    "   - `cd ..` : Remonte d'un niveau dans l'arborescence des répertoires.\n",
    "\n",
    "2. **Liste des fichiers et répertoires :**\n",
    "   - `ls` : Liste les fichiers et répertoires dans le répertoire actuel.\n",
    "   - `ls -l` : Liste les fichiers et répertoires de manière détaillée avec des informations telles que les permissions, le propriétaire, la taille, etc.\n",
    "   - `ls -a` : Liste tous les fichiers, y compris ceux dont le nom commence par un point (fichiers cachés).\n",
    "\n",
    "3. **Manipulation de fichiers et répertoires :**\n",
    "   - `cp` : Copie des fichiers ou des répertoires. Par exemple, `cp fichier.txt destination/`.\n",
    "   - `mv` : Déplace ou renomme des fichiers et des répertoires. Par exemple, `mv ancien_nom.txt nouveau_nom.txt`.\n",
    "   - `rm` : Supprime des fichiers. Par exemple, `rm fichier.txt`.\n",
    "   - `rmdir` : Supprime des répertoires vides. Par exemple, `rmdir dossier_vide/`.\n",
    "   - `mkdir` : Crée un nouveau répertoire. Par exemple, `mkdir nouveau_dossier`.\n",
    "\n",
    "4. **Affichage du contenu des fichiers :**\n",
    "   - `cat` : Affiche le contenu d'un fichier. Par exemple, `cat fichier.txt`.\n",
    "\n",
    "5. **Manipulation du terminal :**\n",
    "   - `clear` : Efface l'écran du terminal.\n",
    "   - `Ctrl + C` : Interrompt l'exécution du programme en cours dans le terminal.\n",
    "\n",
    "6. **Aide :**\n",
    "   - `man` : Fournit un manuel (aide) pour une commande spécifique. Par exemple, `man ls` pour obtenir l'aide sur la commande `ls`.\n",
    "\n",
    "7. **Autres :**\n",
    "   - `pwd` : Affiche le chemin complet du répertoire actuel.\n",
    "   - `echo` : Affiche du texte à la console. Par exemple, `echo \"Hello, World!\"`.\n",
    "   - `chmod` : Modifie les permissions d'un fichier. Par exemple, `chmod +x script.sh` pour rendre un script exécutable.\n",
    "\n",
    "Ces commandes de base devraient vous aider à naviguer et à effectuer des tâches courantes dans la console. Il est recommandé de faire preuve de prudence lors de l'utilisation de certaines commandes, en particulier celles liées à la suppression de fichiers, pour éviter toute perte de données accidentelle."
   ]
  },
  {
   "cell_type": "markdown",
   "metadata": {},
   "source": [
    "### Mistral AI"
   ]
  },
  {
   "cell_type": "markdown",
   "metadata": {},
   "source": [
    "# Commande de recherche\n",
    "\n",
    "- `grep`\n",
    "  - chercher une chaine de caractère dans un fichier (ou dans plusieurs fichiers)\n",
    "  - `man grep` pour avoir plus d'informations sur cette commande\n",
    "\n",
    "```shell\n",
    "grep 'pattern' file.txt\n",
    "```\n",
    "\n",
    "## Commande de recherche avancée\n",
    "\n",
    "- `egrep` et `fgrep` : permettent respectivement la recherche d'expression régulière ou de mot fixes\n",
    "\n",
    "```shell\n",
    "fgrep 'pattern' file.txt # chercher le motif pattern dans un fichier\n",
    "egrep 'pattern' file.txt # chercher l'expression régulière pattern dans un fichier\n",
    "```\n",
    "\n",
    "- `grep -i` : recherche en tenant compte des majuscules et mineures\n",
    "\n",
    "## Commande de recherche dans plusieurs fichiers\n",
    "\n",
    "Pour chercher une chaine de caractères dans plusieurs fichiers, il suffit d'utiliser la commande grep sur les noms \n",
    "des fichiers à lire.\n",
    "\n",
    "```shell\n",
    "grep 'pattern' file1.txt file2.txt\n",
    "```\n",
    "\n",
    "## Commande pour sélectionner les lignes de sortie\n",
    "\n",
    "Pour sélectionner les lignes correspondant à une recherche, il suffit d'utiliser le paramètre `-l` avec la commande\n",
    "grep :\n",
    "\n",
    "```shell\n",
    "grep -l 'pattern' file.txt\n",
    "```\n",
    "\n",
    "## Commande pour afficher les résultats de sortie\n",
    "\n",
    "Pour afficher les résultats de sortie, il suffit d'utiliser le paramètre `-H` avec la commande grep :\n",
    "\n",
    "```shell\n",
    "grep -H 'pattern' file.txt\n",
    "```"
   ]
  },
  {
   "cell_type": "markdown",
   "metadata": {},
   "source": [
    "## En Python, comment fait-on pour utilser le if, else, default, donne-moi un exemple en expliquant chaque ligne ?"
   ]
  },
  {
   "cell_type": "markdown",
   "metadata": {},
   "source": [
    "### HUMAIN"
   ]
  },
  {
   "cell_type": "markdown",
   "metadata": {},
   "source": [
    "En France, la notation se fait généralement sur 20. Imaginons que tu obtiens un 16 sur 20 par exemple à ton dernier devoir de géographie. La commentaire du professeur sera sans doute \"Très bien.\"\n",
    "\n",
    "```python\n",
    "note = 16\n",
    "\n",
    "   if note >= 18:\n",
    "       print(\"Excellent!\")\n",
    "   elif 16 <= note < 18:\n",
    "       print(\"Très bien.\")\n",
    "   elif 14 <= note < 16:\n",
    "       print(\"Bien.\")\n",
    "   else:\n",
    "       print(\"À améliorer.\")\n",
    "```"
   ]
  },
  {
   "cell_type": "markdown",
   "metadata": {},
   "source": [
    "### ChatGPT 3.5"
   ]
  },
  {
   "cell_type": "markdown",
   "metadata": {},
   "source": [
    "En Python, les instructions conditionnelles `if`, `else` et `elif` (qui est une contraction de \"else if\") sont utilisées pour exécuter des blocs de code en fonction de certaines conditions. Cependant, il n'y a pas d'instruction `default` comme dans certains autres langages, mais vous pouvez utiliser `else` pour traiter tous les autres cas non couverts par les conditions précédentes. Voici un exemple simple qui illustre l'utilisation de ces instructions :\n",
    "\n",
    "```python\n",
    "# Exemple d'utilisation de if, elif et else en Python\n",
    "\n",
    "# Déclaration d'une variable\n",
    "note = 75\n",
    "\n",
    "# Utilisation de l'instruction if pour tester une condition\n",
    "if note >= 90:\n",
    "    # Si la condition est vraie, ce bloc de code est exécuté\n",
    "    print(\"Très bien !\")\n",
    "elif 80 <= note < 90:\n",
    "    # Si la première condition est fausse et celle-ci est vraie, ce bloc de code est exécuté\n",
    "    print(\"Bien\")\n",
    "elif 70 <= note < 80:\n",
    "    # Si les deux premières conditions sont fausses et celle-ci est vraie, ce bloc de code est exécuté\n",
    "    print(\"Satisfaisant\")\n",
    "else:\n",
    "    # Si aucune des conditions précédentes n'est vraie, ce bloc de code est exécuté\n",
    "    print(\"A améliorer\")\n",
    "\n",
    "# Sortie : \"Satisfaisant\" car la note est 75 et la troisième condition est vraie.\n",
    "```\n",
    "\n",
    "Explications ligne par ligne :\n",
    "\n",
    "1. `note = 75`: Déclare une variable `note` et lui attribue la valeur 75.\n",
    "\n",
    "2. `if note >= 90:`: Teste si la note est supérieure ou égale à 90.\n",
    "\n",
    "3. `print(\"Très bien !\")`: Si la condition de la ligne 2 est vraie, affiche \"Très bien !\" à la console.\n",
    "\n",
    "4. `elif 80 <= note < 90:`: Si la condition de la ligne 2 est fausse, teste si la note est comprise entre 80 et 89.\n",
    "\n",
    "5. `print(\"Bien\")`: Si la condition de la ligne 4 est vraie, affiche \"Bien\" à la console.\n",
    "\n",
    "6. `elif 70 <= note < 80:`: Si les conditions des lignes précédentes sont fausses, teste si la note est comprise entre 70 et 79.\n",
    "\n",
    "7. `print(\"Satisfaisant\")`: Si la condition de la ligne 6 est vraie, affiche \"Satisfaisant\" à la console.\n",
    "\n",
    "8. `else:`: Si aucune des conditions précédentes n'est vraie, exécute le bloc de code suivant.\n",
    "\n",
    "9. `print(\"A améliorer\")`: Affiche \"A améliorer\" à la console, car c'est le cas lorsque la note ne satisfait aucune des conditions précédentes.\n",
    "\n",
    "Dans cet exemple, le programme affichera \"Satisfaisant\" car la note est de 75, ce qui correspond à la troisième condition."
   ]
  },
  {
   "cell_type": "markdown",
   "metadata": {},
   "source": [
    "### Mistral AI"
   ]
  },
  {
   "cell_type": "markdown",
   "metadata": {},
   "source": [
    " Conseil : vous pouvez utilser un if, else, default, avec la ligne:\n",
    "```python\n",
    "if condition:\n",
    "    code à exécuter si la condition est vraie\n",
    "else:\n",
    "    code à exécuter si la condition est fausse\n",
    "defaut_à_exécuter:\n",
    "    code à exécuter si la condition et les deux autres sont faux\n",
    "```\n",
    "\n",
    "Voici un exemple d'utilisation de l'if, else, default en Python:\n",
    "```python\n",
    "age = int(input(\"Entrez votre age : \"))\n",
    "if age > 17:\n",
    "    print(\"Vous pouvez voter.\")\n",
    "else:\n",
    "    print(\"Vous n'avez pas le droit de voter\")\n",
    "default_printed = True\n",
    "if default_printed:\n",
    "    print(\"Ceci est affiché par default, et ne peut être supprimée que si l'on fait un else if\")\n",
    "```"
   ]
  },
  {
   "cell_type": "code",
   "execution_count": null,
   "metadata": {},
   "outputs": [],
   "source": []
  }
 ],
 "metadata": {
  "kernelspec": {
   "display_name": "Python 3 (ipykernel)",
   "language": "python",
   "name": "python3"
  },
  "language_info": {
   "codemirror_mode": {
    "name": "ipython",
    "version": 3
   },
   "file_extension": ".py",
   "mimetype": "text/x-python",
   "name": "python",
   "nbconvert_exporter": "python",
   "pygments_lexer": "ipython3",
   "version": "3.11.6"
  }
 },
 "nbformat": 4,
 "nbformat_minor": 2
}
